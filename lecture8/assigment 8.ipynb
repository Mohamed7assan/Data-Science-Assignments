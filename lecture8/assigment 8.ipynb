{
 "cells": [
  {
   "cell_type": "code",
   "execution_count": null,
   "metadata": {},
   "outputs": [],
   "source": [
    "##Python Program to Check if a Number is Positive, Negative or 0"
   ]
  },
  {
   "cell_type": "code",
   "execution_count": 3,
   "metadata": {},
   "outputs": [
    {
     "name": "stdout",
     "output_type": "stream",
     "text": [
      "enter number0\n",
      "Zerro\n"
     ]
    }
   ],
   "source": [
    "num=float(input(\"enter number\"))\n",
    "if num >0:\n",
    "    print(\"positive number\")\n",
    "elif num <0:\n",
    "    print(\"negative number\")\n",
    "else:\n",
    "    print(\"Zerro\")"
   ]
  },
  {
   "cell_type": "code",
   "execution_count": null,
   "metadata": {},
   "outputs": [],
   "source": []
  },
  {
   "cell_type": "code",
   "execution_count": null,
   "metadata": {},
   "outputs": [],
   "source": [
    "##Python Program to Calculate the Area of a Triangle"
   ]
  },
  {
   "cell_type": "code",
   "execution_count": 5,
   "metadata": {},
   "outputs": [
    {
     "name": "stdout",
     "output_type": "stream",
     "text": [
      "enter the first side  :5\n",
      "enter the secoend side  :6\n",
      "enter the thierd side  :7\n",
      "14.696938456699069\n"
     ]
    }
   ],
   "source": [
    "import math\n",
    "a=float(input('enter the first side  :'))\n",
    "b=float(input('enter the secoend side  :'))\n",
    "c=float(input('enter the thierd side  :'))\n",
    "\n",
    "m=(a+b+c)/2\n",
    "\n",
    "area=math.sqrt(m*(m-a)*(m-b)*(m-c))\n",
    "print (area )\n"
   ]
  },
  {
   "cell_type": "code",
   "execution_count": null,
   "metadata": {},
   "outputs": [],
   "source": []
  },
  {
   "cell_type": "code",
   "execution_count": null,
   "metadata": {},
   "outputs": [],
   "source": [
    "##Python Program to Convert Decimal to Binary Using Recursion"
   ]
  },
  {
   "cell_type": "code",
   "execution_count": 17,
   "metadata": {},
   "outputs": [
    {
     "name": "stdout",
     "output_type": "stream",
     "text": [
      "enter decimal number      : 20\n",
      "10100"
     ]
    }
   ],
   "source": [
    "\n",
    "def convertToBinary(num):\n",
    "    \n",
    "    if num > 1:\n",
    "        convertToBinary(num//2)\n",
    "    print(num % 2,end = '')\n",
    "\n",
    "dec=int(input(\"enter decimal number      : \"))\n",
    "\n",
    "convertToBinary(dec)\n"
   ]
  },
  {
   "cell_type": "code",
   "execution_count": 12,
   "metadata": {},
   "outputs": [
    {
     "name": "stdout",
     "output_type": "stream",
     "text": [
      "110111\n"
     ]
    }
   ],
   "source": []
  },
  {
   "cell_type": "code",
   "execution_count": null,
   "metadata": {},
   "outputs": [],
   "source": []
  },
  {
   "cell_type": "code",
   "execution_count": null,
   "metadata": {},
   "outputs": [],
   "source": [
    "##Python Program to Display the multiplication Table"
   ]
  },
  {
   "cell_type": "code",
   "execution_count": 5,
   "metadata": {},
   "outputs": [
    {
     "name": "stdout",
     "output_type": "stream",
     "text": [
      "enter the number 1\n",
      "1 x 1 = 1\n",
      "1 x 2 = 2\n",
      "1 x 3 = 3\n",
      "1 x 4 = 4\n",
      "1 x 5 = 5\n",
      "1 x 6 = 6\n",
      "1 x 7 = 7\n",
      "1 x 8 = 8\n",
      "1 x 9 = 9\n",
      "1 x 10 = 10\n"
     ]
    }
   ],
   "source": [
    "\n",
    "\n",
    "num =int(input(\"enter the number \"))\n",
    "for i in range(1, 11):\n",
    "    print(num , 'x', i , '=' , num*i )\n",
    "    \n",
    "    \n",
    "    \n",
    "    "
   ]
  },
  {
   "cell_type": "code",
   "execution_count": null,
   "metadata": {},
   "outputs": [],
   "source": [
    " ##Python Program to Find the Largest Among Three Numbers "
   ]
  },
  {
   "cell_type": "code",
   "execution_count": 3,
   "metadata": {},
   "outputs": [
    {
     "name": "stdout",
     "output_type": "stream",
     "text": [
      "enter num1    :5\n",
      "enter num2   :10\n",
      "enter num3  :20\n",
      "The largest number is 20.0\n"
     ]
    }
   ],
   "source": [
    "num1=float(input(\"enter num1    :\"))\n",
    "num2=float(input(\"enter num2   :\"))\n",
    "num3 = float(input(\"enter num3  :\"))\n",
    "\n",
    "if (num1 >= num2) and (num1 >= num3):\n",
    "    largest=num1\n",
    "elif (num2 >= num1) and (num2 >= num3):\n",
    "    largest=num2\n",
    "     \n",
    "else:\n",
    "    largest=num3\n",
    "print(\"The largest number is\", largest)"
   ]
  },
  {
   "cell_type": "code",
   "execution_count": null,
   "metadata": {},
   "outputs": [],
   "source": []
  },
  {
   "cell_type": "code",
   "execution_count": null,
   "metadata": {},
   "outputs": [],
   "source": []
  },
  {
   "cell_type": "code",
   "execution_count": null,
   "metadata": {},
   "outputs": [],
   "source": []
  }
 ],
 "metadata": {
  "kernelspec": {
   "display_name": "Python 3",
   "language": "python",
   "name": "python3"
  },
  "language_info": {
   "codemirror_mode": {
    "name": "ipython",
    "version": 3
   },
   "file_extension": ".py",
   "mimetype": "text/x-python",
   "name": "python",
   "nbconvert_exporter": "python",
   "pygments_lexer": "ipython3",
   "version": "3.7.6"
  }
 },
 "nbformat": 4,
 "nbformat_minor": 4
}
