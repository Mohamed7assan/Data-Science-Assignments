{
 "cells": [
  {
   "cell_type": "markdown",
   "metadata": {},
   "source": [
    "# 2.2) Solve the Python Files Task"
   ]
  },
  {
   "cell_type": "markdown",
   "metadata": {},
   "source": [
    "## 1- Open a file, name it 'test.txt' and write 'hello world' for 5 times in it then close it."
   ]
  },
  {
   "cell_type": "code",
   "execution_count": 58,
   "metadata": {},
   "outputs": [
    {
     "name": "stdout",
     "output_type": "stream",
     "text": [
      "\n",
      " hello world \n",
      " hello world \n",
      " hello world \n",
      " hello world \n",
      " hello world \n",
      " \n"
     ]
    }
   ],
   "source": [
    "my_file = open(\"test.txt\",\"w+\")\n",
    "\n",
    "my_file.write(\"\\n hello world \\n \")\n",
    "my_file.write(\"hello world \\n \")\n",
    "my_file.write(\"hello world \\n \")\n",
    "my_file.write(\"hello world \\n \")\n",
    "my_file.write(\"hello world \\n \")\n",
    "my_file=open(\"test.txt\",\"r+\")\n",
    "content=my_file.read()\n",
    "my_file.close()\n",
    "print(content)"
   ]
  },
  {
   "cell_type": "markdown",
   "metadata": {},
   "source": [
    "## 2- Read the contents of the file, then make content in uppercase then write the result again to the file."
   ]
  },
  {
   "cell_type": "code",
   "execution_count": 31,
   "metadata": {},
   "outputs": [
    {
     "name": "stdout",
     "output_type": "stream",
     "text": [
      "\n",
      " HELLO WORLD \n",
      " HELLO WORLD \n",
      " HELLO WORLD \n",
      " HELLO WORLD \n",
      " HELLO WORLD \n",
      " \n"
     ]
    }
   ],
   "source": [
    "my_file=open(\"test.txt\",\"r\")\n",
    "data=my_file.read()\n",
    "data_upper=data.upper()\n",
    "my_file.close()\n",
    "my_file=open(\"test.txt\",\"w\")\n",
    "my_file.write(data_upper)\n",
    "my_file.close()\n",
    "print(data)"
   ]
  },
  {
   "cell_type": "markdown",
   "metadata": {},
   "source": [
    "# 3- Read the third line of the file then update it to its capital case using capitalize."
   ]
  },
  {
   "cell_type": "code",
   "execution_count": 44,
   "metadata": {},
   "outputs": [
    {
     "name": "stdout",
     "output_type": "stream",
     "text": [
      " HELLO WORLD \n",
      "\n"
     ]
    }
   ],
   "source": [
    "my_file=open(\"test.txt\",\"r\")\n",
    "data=my_file.readlines()\n",
    "data_upper=data[2].upper()\n",
    "my_file.close()\n",
    "my_file=open(\"test.txt\",\"w\")\n",
    "my_file.write(data_upper)\n",
    "my_file.close()\n",
    "print(data_upper)"
   ]
  },
  {
   "cell_type": "markdown",
   "metadata": {},
   "source": [
    "# 4- Using With Statement open this file and append 'I Love python' to it."
   ]
  },
  {
   "cell_type": "code",
   "execution_count": 59,
   "metadata": {},
   "outputs": [
    {
     "name": "stdout",
     "output_type": "stream",
     "text": [
      "\n",
      " hello world \n",
      " hello world \n",
      " hello world \n",
      " hello world \n",
      " hello world \n",
      " i love python\n"
     ]
    }
   ],
   "source": [
    "my_file=open(\"test.txt\",\"a+\")\n",
    "my_file.write('i love python')\n",
    "my_file.close()\n",
    "my_file=open(\"test.txt\",\"r\")\n",
    "data=my_file.read()\n",
    "my_file.close()\n",
    "print(data)"
   ]
  }
 ],
 "metadata": {
  "kernelspec": {
   "display_name": "Python 3",
   "language": "python",
   "name": "python3"
  },
  "language_info": {
   "codemirror_mode": {
    "name": "ipython",
    "version": 3
   },
   "file_extension": ".py",
   "mimetype": "text/x-python",
   "name": "python",
   "nbconvert_exporter": "python",
   "pygments_lexer": "ipython3",
   "version": "3.8.5"
  }
 },
 "nbformat": 4,
 "nbformat_minor": 4
}
